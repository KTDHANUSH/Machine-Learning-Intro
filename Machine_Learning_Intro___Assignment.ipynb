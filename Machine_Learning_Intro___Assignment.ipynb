{
  "nbformat": 4,
  "nbformat_minor": 0,
  "metadata": {
    "colab": {
      "provenance": []
    },
    "kernelspec": {
      "name": "python3",
      "display_name": "Python 3"
    },
    "language_info": {
      "name": "python"
    }
  },
  "cells": [
    {
      "cell_type": "markdown",
      "source": [
        "# ***Machine Learning Intro Assignment***\n",
        "\n",
        "---\n",
        "\n"
      ],
      "metadata": {
        "id": "WLtGb5OK426Y"
      }
    },
    {
      "cell_type": "markdown",
      "source": [
        "**Question 1: Explain the differences between AI, ML, Deep Learning (DL), and Data Science (DS)**.\n",
        "\n",
        "**Answer 1:**\n",
        "\n",
        "**Artificial Intelligence (AI):** The broad field of creating machines that can perform tasks requiring human intelligence (e.g., problem-solving, decision-making, speech recognition).\n",
        "\n",
        "**Machine Learning (ML):** A subset of AI where systems learn patterns from data without being explicitly programmed (e.g., spam email detection).\n",
        "\n",
        "**Deep Learning (DL):** A subset of ML using neural networks with multiple layers to model complex patterns (e.g., image recognition in self-driving cars).\n",
        "\n",
        "**Data Science (DS):** A multidisciplinary field that uses AI/ML, statistics, and domain knowledge to extract insights from data (e.g., customer behavior analysis)."
      ],
      "metadata": {
        "id": "z4scoPWW43HN"
      }
    },
    {
      "cell_type": "markdown",
      "source": [
        "**Question 2: What are the types of machine learning? Describe each with one real-world example.**\n",
        "\n",
        "**Answer 2:**\n",
        "\n",
        "**Supervised Learning** – Model learns from labeled data.\n",
        "Example: Predicting house prices using past data.\n",
        "\n",
        "**Unsupervised Learning** – Model works with unlabeled data to find patterns.\n",
        "Example: Customer segmentation in marketing.\n",
        "\n",
        "**Reinforcement Learning *** **– Model learns by interacting with an environment and receiving rewards/penalties.\n",
        "Example: Training a robot to walk."
      ],
      "metadata": {
        "id": "Pus4ZJdX43KI"
      }
    },
    {
      "cell_type": "markdown",
      "source": [
        "**Question 3: Define overfitting, underfitting, and the bias-variance tradeoff in machine learning.**\n",
        "\n",
        "**Answer 3:**\n",
        "\n",
        "**Overfitting:** Model performs well on training data but poorly on unseen data because it memorized instead of generalizing.\n",
        "\n",
        "**Underfitting:** Model is too simple and fails to capture data patterns.\n",
        "\n",
        "**Bias-Variance Tradeoff:** Balancing model simplicity (bias) and flexibility (variance) to achieve good generalization."
      ],
      "metadata": {
        "id": "pltq5Q0b43M4"
      }
    },
    {
      "cell_type": "markdown",
      "source": [
        "**Question 4: What are outliers in a dataset, and list three common techniques for handling them.**\n",
        "\n",
        "**Answer 4:**\n",
        "\n",
        "**Outliers:** Data points significantly different from most of the dataset.\n",
        "\n",
        "**Techniques to handle outliers:**\n",
        "\n",
        "Remove them.\n",
        "\n",
        "Transform data (e.g., log transformation).\n",
        "\n",
        "Use robust methods (e.g., median instead of mean)."
      ],
      "metadata": {
        "id": "7R7reYW043P2"
      }
    },
    {
      "cell_type": "markdown",
      "source": [
        "**Question 5: Explain the process of handling missing values and mention one imputation technique for numerical and one for categorical data.**\n",
        "\n",
        "**Answer 5:**\n",
        "\n",
        "**Process: Detect** → Analyze impact → Choose method → Apply imputation.\n",
        "\n",
        "**Numerical Data**: Replace with mean/median.\n",
        "\n",
        "**Categorical Data:** Replace with mode (most frequent value)"
      ],
      "metadata": {
        "id": "ucR3R_4_43Sd"
      }
    },
    {
      "cell_type": "code",
      "source": [
        "#Question 6: Write a Python program that:\n",
        "# Creates a synthetic imbalanced dataset with make_classification() fromsklearn.datasets.\n",
        "#Prints the class distribution.Question 6: Write a Python program that:\n",
        "#Creates a synthetic imbalanced dataset with make_classification() from\n",
        "#sklearn.datasets. Prints the class distribution.\n",
        "from sklearn.datasets import make_classification\n",
        "import numpy as np\n",
        "import pandas as pd\n",
        "\n",
        "# Create dataset\n",
        "X, y = make_classification(n_samples=1000, n_features=5, n_classes=2,\n",
        "                           weights=[0.9, 0.1], random_state=42)\n",
        "\n",
        "# Print class distribution\n",
        "unique, counts = np.unique(y, return_counts=True)\n",
        "print(\"Class distribution:\", dict(zip(unique, counts)))\n"
      ],
      "metadata": {
        "colab": {
          "base_uri": "https://localhost:8080/"
        },
        "id": "EpYsSDPc7G29",
        "outputId": "1ce921ce-1d14-4141-f876-6a3a323bf2df"
      },
      "execution_count": 1,
      "outputs": [
        {
          "output_type": "stream",
          "name": "stdout",
          "text": [
            "Class distribution: {np.int64(0): np.int64(895), np.int64(1): np.int64(105)}\n"
          ]
        }
      ]
    },
    {
      "cell_type": "code",
      "source": [
        "#Question 7: Implement one-hot encoding using pandas for the following list of colors:['Red', 'Green', 'Blue', 'Green', 'Red']. Print the resulting dataframe.\n",
        "import pandas as pd\n",
        "\n",
        "colors = ['Red', 'Green', 'Blue', 'Green', 'Red']\n",
        "df = pd.DataFrame(colors, columns=['Color'])\n",
        "\n",
        "# One-hot encoding\n",
        "encoded = pd.get_dummies(df, columns=['Color'])\n",
        "print(encoded)\n"
      ],
      "metadata": {
        "colab": {
          "base_uri": "https://localhost:8080/"
        },
        "id": "xi7AQzOn7qLu",
        "outputId": "fd23ef48-c5e8-44b2-a4bb-59bb6890dc5d"
      },
      "execution_count": 2,
      "outputs": [
        {
          "output_type": "stream",
          "name": "stdout",
          "text": [
            "   Color_Blue  Color_Green  Color_Red\n",
            "0       False        False       True\n",
            "1       False         True      False\n",
            "2        True        False      False\n",
            "3       False         True      False\n",
            "4       False        False       True\n"
          ]
        }
      ]
    },
    {
      "cell_type": "code",
      "source": [
        "#Question 8: Write a Python script to:Generate 1000 samples from a normal distribution.Introduce 50 random missing values.Fill missing values with the column mean.Plot a histogram before and after imputation.\n",
        "import numpy as np\n",
        "import pandas as pd\n",
        "import matplotlib.pyplot as plt\n",
        "\n",
        "# Generate 1000 samples\n",
        "data = np.random.normal(loc=50, scale=10, size=1000)\n",
        "df = pd.DataFrame(data, columns=['Value'])\n",
        "\n",
        "# Introduce 50 missing values\n",
        "nan_indices = np.random.choice(df.index, 50, replace=False)\n",
        "df.loc[nan_indices, 'Value'] = np.nan\n",
        "\n",
        "# Plot before imputation\n",
        "df['Value'].hist(bins=30)\n",
        "plt.title(\"Before Imputation\")\n",
        "plt.show()\n",
        "\n",
        "# Fill missing values with mean\n",
        "df['Value'].fillna(df['Value'].mean(), inplace=True)\n",
        "\n",
        "# Plot after imputation\n",
        "df['Value'].hist(bins=30)\n",
        "plt.title(\"After Imputation\")\n",
        "plt.show()\n"
      ],
      "metadata": {
        "colab": {
          "base_uri": "https://localhost:8080/",
          "height": 1000
        },
        "id": "vLar1o8H7zW-",
        "outputId": "f912396e-9d98-46df-9e3a-f3c2770fe2fb"
      },
      "execution_count": 3,
      "outputs": [
        {
          "output_type": "display_data",
          "data": {
            "text/plain": [
              "<Figure size 640x480 with 1 Axes>"
            ],
            "image/png": "[encoded data removed]"
          },
          "metadata": {}
        },
        {
          "output_type": "stream",
          "name": "stderr",
          "text": [
            "/tmp/ipython-input-3584501963.py:20: FutureWarning: A value is trying to be set on a copy of a DataFrame or Series through chained assignment using an inplace method.\n",
            "The behavior will change in pandas 3.0. This inplace method will never work because the intermediate object on which we are setting values always behaves as a copy.\n",
            "\n",
            "For example, when doing 'df[col].method(value, inplace=True)', try using 'df.method({col: value}, inplace=True)' or df[col] = df[col].method(value) instead, to perform the operation inplace on the original object.\n",
            "\n",
            "\n",
            "  df['Value'].fillna(df['Value'].mean(), inplace=True)\n"
          ]
        },
        {
          "output_type": "display_data",
          "data": {
            "text/plain": [
              "<Figure size 640x480 with 1 Axes>"
            ],
            "image/png": "[encoded data removed]"
          },
          "metadata": {}
        }
      ]
    },
    {
      "cell_type": "code",
      "source": [
        "#Question 9: Implement Min-Max scaling on the following list of numbers [2, 5, 10, 15,20] using sklearn.preprocessing.MinMaxScaler. Print the scaled array.\n",
        "from sklearn.preprocessing import MinMaxScaler\n",
        "import numpy as np\n",
        "\n",
        "data = np.array([[2], [5], [10], [15], [20]])\n",
        "scaler = MinMaxScaler()\n",
        "scaled = scaler.fit_transform(data)\n",
        "print(scaled)\n"
      ],
      "metadata": {
        "colab": {
          "base_uri": "https://localhost:8080/"
        },
        "id": "ic_gyzLp8DDe",
        "outputId": "e0f7bfb9-2e65-499c-c089-93a5504e7997"
      },
      "execution_count": 4,
      "outputs": [
        {
          "output_type": "stream",
          "name": "stdout",
          "text": [
            "[[0.        ]\n",
            " [0.16666667]\n",
            " [0.44444444]\n",
            " [0.72222222]\n",
            " [1.        ]]\n"
          ]
        }
      ]
    },
    {
      "cell_type": "code",
      "source": [
        "#Question 10: You are working as a data scientist for a retail company. You receive a customertransaction dataset that contains:Missing ages,Outliers in transaction amount,A highly imbalanced target (fraud vs. non-fraud),Categorical variables like payment method.\n",
        "import pandas as pd\n",
        "from sklearn.impute import SimpleImputer\n",
        "from sklearn.preprocessing import OneHotEncoder, MinMaxScaler\n",
        "from imblearn.over_sampling import SMOTE, RandomOverSampler\n",
        "\n",
        "# Example dataset\n",
        "df = pd.DataFrame({\n",
        "    'Age': [25, 30, None, 40, None],\n",
        "    'Amount': [200, 30000, 250, 260, 50000],\n",
        "    'Payment': ['Card', 'Cash', 'Card', 'UPI', 'Cash'],\n",
        "    'Fraud': [0, 0, 0, 1, 0]\n",
        "})\n",
        "\n",
        "# Handle missing values\n",
        "df['Age'] = SimpleImputer(strategy='median').fit_transform(df[['Age']])\n",
        "\n",
        "# Handle outliers (cap at 95th percentile)\n",
        "cap = df['Amount'].quantile(0.95)\n",
        "df['Amount'] = df['Amount'].clip(upper=cap)\n",
        "\n",
        "# One-hot encoding\n",
        "df = pd.get_dummies(df, columns=['Payment'])\n",
        "\n",
        "# Handle imbalance\n",
        "X = df.drop('Fraud', axis=1)\n",
        "y = df['Fraud']\n",
        "\n",
        "# Check class balance first\n",
        "print(y.value_counts())\n",
        "\n",
        "if y.value_counts().min() < 2:\n",
        "    # If only 1 fraud sample exists → use RandomOverSampler\n",
        "    print(\"⚠️ Only 1 sample in minority class, using RandomOverSampler instead of SMOTE\")\n",
        "    X_res, y_res = RandomOverSampler(random_state=42).fit_resample(X, y)\n",
        "else:\n",
        "    # If more than 1 minority sample → SMOTE will work with lower k_neighbors\n",
        "    X_res, y_res = SMOTE(k_neighbors=1, random_state=42).fit_resample(X, y)\n",
        "\n",
        "\n",
        "print(X_res.head())\n",
        "print(y_res.value_counts())\n",
        "\n"
      ],
      "metadata": {
        "colab": {
          "base_uri": "https://localhost:8080/"
        },
        "id": "HdLUI1JT8OZN",
        "outputId": "921917a9-7804-4776-86de-8a3ba55fad45"
      },
      "execution_count": 9,
      "outputs": [
        {
          "output_type": "stream",
          "name": "stdout",
          "text": [
            "Fraud\n",
            "0    4\n",
            "1    1\n",
            "Name: count, dtype: int64\n",
            "⚠️ Only 1 sample in minority class, using RandomOverSampler instead of SMOTE\n",
            "    Age  Amount  Payment_Card  Payment_Cash  Payment_UPI\n",
            "0  25.0     200          True         False        False\n",
            "1  30.0   30000         False          True        False\n",
            "2  30.0     250          True         False        False\n",
            "3  40.0     260         False         False         True\n",
            "4  30.0   46000         False          True        False\n",
            "Fraud\n",
            "0    4\n",
            "1    4\n",
            "Name: count, dtype: int64\n"
          ]
        }
      ]
    }
  ]
}